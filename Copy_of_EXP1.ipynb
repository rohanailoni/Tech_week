{
  "nbformat": 4,
  "nbformat_minor": 0,
  "metadata": {
    "colab": {
      "name": "Copy of EXP1.ipynb",
      "provenance": [],
      "authorship_tag": "ABX9TyO//HWp9wZgT09dEo9/03lE",
      "include_colab_link": true
    },
    "kernelspec": {
      "name": "python3",
      "display_name": "Python 3"
    },
    "language_info": {
      "name": "python"
    }
  },
  "cells": [
    {
      "cell_type": "markdown",
      "metadata": {
        "id": "view-in-github",
        "colab_type": "text"
      },
      "source": [
        "<a href=\"https://colab.research.google.com/github/rohanailoni/Tech_week/blob/main/Copy_of_EXP1.ipynb\" target=\"_parent\"><img src=\"https://colab.research.google.com/assets/colab-badge.svg\" alt=\"Open In Colab\"/></a>"
      ]
    },
    {
      "cell_type": "markdown",
      "metadata": {
        "id": "_t-br68c0Lsl"
      },
      "source": [
        "**Importing the first important modules pandas csv numpy and pickle**\n",
        "\n",
        "* Matplotlib for ploting graphs\n",
        "* Seaborn is a libary which is build upon matplotlib can return plots which is more attractive and interactive\n",
        "* Pickle for importing python functions\n",
        "* collections for conveting the arrays into dictionary\n"
      ]
    },
    {
      "cell_type": "code",
      "metadata": {
        "id": "oxtABbLMiZTr"
      },
      "source": [
        "import pandas as pd\n",
        "import csv\n",
        "import numpy as np\n",
        "import matplotlib.pyplot as plt\n",
        "import pickle\n",
        "import seaborn as sns\n",
        "import collections"
      ],
      "execution_count": null,
      "outputs": []
    },
    {
      "cell_type": "markdown",
      "metadata": {
        "id": "xDRy4b0_EurL"
      },
      "source": [
        "**Before most important thing is to pull dataset form github colab has a inbuild function is wget which can import functions**"
      ]
    },
    {
      "cell_type": "code",
      "metadata": {
        "colab": {
          "base_uri": "https://localhost:8080/"
        },
        "id": "IX2HVt-eqOLS",
        "outputId": "3ffb546e-9614-4487-9cf2-37541c518282"
      },
      "source": [
        "url = 'https://raw.githubusercontent.com/rohanailoni/Tech_week/master/cleaned_data/emotion_data_prep.csv'\n",
        "!wget $url"
      ],
      "execution_count": null,
      "outputs": [
        {
          "output_type": "stream",
          "name": "stdout",
          "text": [
            "--2021-11-22 04:42:23--  https://raw.githubusercontent.com/rohanailoni/Tech_week/master/cleaned_data/emotion_data_prep.csv\n",
            "Resolving raw.githubusercontent.com (raw.githubusercontent.com)... 185.199.108.133, 185.199.110.133, 185.199.111.133, ...\n",
            "Connecting to raw.githubusercontent.com (raw.githubusercontent.com)|185.199.108.133|:443... connected.\n",
            "HTTP request sent, awaiting response... 200 OK\n",
            "Length: 3308292 (3.2M) [text/plain]\n",
            "Saving to: ‘emotion_data_prep.csv’\n",
            "\n",
            "emotion_data_prep.c 100%[===================>]   3.15M  --.-KB/s    in 0.08s   \n",
            "\n",
            "2021-11-22 04:42:23 (42.1 MB/s) - ‘emotion_data_prep.csv’ saved [3308292/3308292]\n",
            "\n"
          ]
        }
      ]
    },
    {
      "cell_type": "markdown",
      "metadata": {
        "id": "cpmWsLi-FWvK"
      },
      "source": [
        "**We Will read the csv using pandas which convets the byte stream from the file to DataFrame which is an Pandas inbuild Object**\n",
        "\n",
        "*There is also a Possibility that the some csv files will be now decoded using UTF-8 So it is safer to use UTF-8 for large dataset so that while trianing it deosnt causes **NAN** Error*\n"
      ]
    },
    {
      "cell_type": "code",
      "metadata": {
        "colab": {
          "base_uri": "https://localhost:8080/"
        },
        "id": "2KvTINGYoyMv",
        "outputId": "e4c54b95-0b02-4e2b-8598-0d7f44d7f01d"
      },
      "source": [
        "data_train = pd.read_csv('/content/emotion_data_prep.csv', sep=',', encoding='utf-8')\n",
        "print(\"Dataset shape:\",data_train.shape)"
      ],
      "execution_count": null,
      "outputs": [
        {
          "output_type": "stream",
          "name": "stdout",
          "text": [
            "Dataset shape: (62014, 2)\n"
          ]
        }
      ]
    },
    {
      "cell_type": "markdown",
      "metadata": {
        "id": "hSuTlVRNGTjz"
      },
      "source": [
        "**Now this how our output have been index(cleaned )**\n",
        "\n",
        "> 0----neutral\n",
        "\n",
        "> 1----Happy\n",
        "\n",
        "> 2 ----Sad\n",
        "\n",
        "> 3-----love\n",
        "\n",
        "> 4-----anger\n",
        "\n"
      ]
    },
    {
      "cell_type": "code",
      "metadata": {
        "colab": {
          "base_uri": "https://localhost:8080/"
        },
        "id": "sDBi8d7yGtlb",
        "outputId": "13762242-a308-4cb4-b3e5-f29d23e86b78"
      },
      "source": [
        "data_train.iloc[:,1].value_counts()"
      ],
      "execution_count": null,
      "outputs": [
        {
          "output_type": "execute_result",
          "data": {
            "text/plain": [
              "1    22021\n",
              "2    14844\n",
              "0     9643\n",
              "3     8801\n",
              "4     6705\n",
              "Name: 3, dtype: int64"
            ]
          },
          "metadata": {},
          "execution_count": 45
        }
      ]
    },
    {
      "cell_type": "markdown",
      "metadata": {
        "id": "x6H6qwcaG108"
      },
      "source": [
        "**From The above we can see that the Now using seaborn barplot Let us plot using Emotions count in Dataset**\n"
      ]
    },
    {
      "cell_type": "code",
      "metadata": {
        "colab": {
          "base_uri": "https://localhost:8080/",
          "height": 502
        },
        "id": "z5NfESVZ9BWC",
        "outputId": "dab663a9-5148-462e-9eeb-33fc75dc01b4"
      },
      "source": [
        "count  = data_train.iloc[:,1].value_counts()\n",
        "plt.figure(figsize=(9,7))\n",
        "sns.barplot(count.index, count.values, alpha=0.8, palette=\"plasma\")\n",
        "plt.ylabel('Count', fontsize=12)\n",
        "plt.xlabel('Emotions', fontsize=12)\n",
        "plt.show()\n",
        "# 0 = neutral\n",
        "# 1 = happy\n",
        "# 2 = sad\n",
        "# 3 = love\n",
        "# 4 = anger"
      ],
      "execution_count": null,
      "outputs": [
        {
          "output_type": "stream",
          "name": "stderr",
          "text": [
            "/usr/local/lib/python3.7/dist-packages/seaborn/_decorators.py:43: FutureWarning: Pass the following variables as keyword args: x, y. From version 0.12, the only valid positional argument will be `data`, and passing other arguments without an explicit keyword will result in an error or misinterpretation.\n",
            "  FutureWarning\n"
          ]
        },
        {
          "output_type": "display_data",
          "data": {
            "image/png": "[encoded data removed]",
            "text/plain": [
              "<Figure size 648x504 with 1 Axes>"
            ]
          },
          "metadata": {
            "needs_background": "light"
          }
        }
      ]
    },
    {
      "cell_type": "markdown",
      "metadata": {
        "id": "UTuLZp6hLLvo"
      },
      "source": [
        "**For Verification we need to divide out data into 2 sets**<br/>\n",
        "> X_train contains all a part of data_train\n",
        "\n",
        "> y_train contains labels of the X_train\n",
        "\n",
        "> x_val will be remaining Array contains fro validation of our models\n",
        "\n",
        "> y_val will be labels for x_val\n"
      ]
    },
    {
      "cell_type": "code",
      "metadata": {
        "id": "PsqJR-9k9SGk"
      },
      "source": [
        "skip=49611\n",
        "X_train = data_train.iloc[:,0][:skip]\n",
        "\n",
        "y_train = data_train.iloc[:,-1][:skip]\n",
        "\n",
        "X_val = data_train.iloc[:,0][skip+1:]\n",
        "\n",
        "y_val = data_train.iloc[:,-1][skip+1:]"
      ],
      "execution_count": null,
      "outputs": []
    },
    {
      "cell_type": "markdown",
      "metadata": {
        "id": "HmKyIwu0MQxu"
      },
      "source": [
        "**First All the models take inputs as the Numbers so we needed to convert our Sentences into numbers but the numbers Directly converted into numbers because each word lose significant with each other and inturn our models cannot identify Significace between different Sentences**\n",
        "\n",
        "<br/>\n",
        "<br/>\n",
        "\n",
        "*There are two Methods of conveting the text into 2D Vectors(Embeddings Is discussing in the next Session):-*\n",
        "\n",
        "\n",
        "> Tf-IDF Vectrization\n",
        "\n",
        ">Count Vectoization"
      ]
    },
    {
      "cell_type": "markdown",
      "metadata": {
        "id": "X_CqlH6KOhg0"
      },
      "source": [
        "**Sklearn Provides Tf-idf vectorization function to convert directly into vectors**\n",
        "\n",
        "*So we will be importing it from sklearn.feature_extraction and in text module*\n"
      ]
    },
    {
      "cell_type": "code",
      "metadata": {
        "id": "ZJc-ikl09fTH"
      },
      "source": [
        "from sklearn.feature_extraction.text import TfidfVectorizer"
      ],
      "execution_count": null,
      "outputs": []
    },
    {
      "cell_type": "code",
      "metadata": {
        "colab": {
          "base_uri": "https://localhost:8080/"
        },
        "id": "ETOqS1oS9nl1",
        "outputId": "5d9599d4-7f63-477f-fd51-c469d9128c36"
      },
      "source": [
        "tfidf = TfidfVectorizer(max_features=1000, analyzer='word',ngram_range=(1,3))\n",
        "\n",
        "X_train_tfidf = tfidf.fit_transform(X_train.astype('U'))\n",
        "\n",
        "X_val_tfidf = tfidf.fit_transform(X_val.astype('U'))\n",
        "\n",
        "\n",
        "print(tfidf.vocabulary_)"
      ],
      "execution_count": null,
      "outputs": [
        {
          "output_type": "stream",
          "name": "stdout",
          "text": [
            "{'go': 336, 'make': 539, 'well': 951, 'soo': 804, 'yeah': 989, 'funny': 317, 'people': 642, 'family': 260, 'book': 87, 'reading': 693, 'love': 527, 'quick': 685, 'chance': 117, 'lol': 519, 'sad': 729, 'start': 818, 'girl': 326, 'day': 177, 'sister': 779, 'bad': 54, 'time': 881, 'wow': 982, 'good': 345, 'twt': 910, 'merry': 558, 'christmas': 125, 'army': 34, 'jim': 452, 'twt merry': 911, 'merry christmas': 559, 'christmas army': 126, 'army jim': 35, 'jim merry': 453, 'twt merry christmas': 912, 'merry christmas army': 560, 'christmas army jim': 127, 'army jim merry': 36, 'jim merry christmas': 454, 'haha': 362, 'play': 658, 'fall': 259, 'boy': 92, 'bar': 57, 'full': 315, 'old': 619, 'need': 599, 'would': 981, 'ask': 40, 'really': 698, 'cut': 168, 'hang': 368, 'tomorrow': 886, 'sb': 736, 'surprise': 843, 'ver': 924, 'justin': 470, 'josh': 459, 'sejun': 756, 'sb christmas': 737, 'christmas surprise': 131, 'surprise family': 846, 'family ver': 261, 'ver merry': 925, 'christmas sb': 129, 'sb sb': 744, 'sb justin': 741, 'justin sb': 473, 'sb josh': 739, 'josh sb': 460, 'sb sejun': 747, 'sb christmas surprise': 738, 'christmas surprise family': 133, 'surprise family ver': 847, 'family ver merry': 262, 'ver merry christmas': 926, 'merry christmas sb': 562, 'christmas sb sb': 130, 'sb sb sb': 746, 'sb sb justin': 745, 'sb justin sb': 743, 'justin sb josh': 474, 'sb josh sb': 740, 'josh sb sejun': 461, 'wish': 959, 'superb': 839, 'twitter': 908, 'friend': 307, 'fun': 316, 'safe': 730, 'lot': 526, 'thank': 866, 'strong': 828, 'long': 520, 'enough': 237, 'let': 503, 'help': 398, 'alone': 12, 'anymore': 31, 'sure': 842, 'right': 720, 'get': 321, 'see': 751, 'dead': 179, 'thanks': 869, 'week': 948, 'change': 118, 'ticket': 879, 'php': 649, 'giveaway': 332, 'follow': 291, 'retweet': 712, 'tag': 854, 'end': 229, 'minute': 568, 'php giveaway': 650, 'giveaway follow': 333, 'follow retweet': 294, 'retweet tag': 713, 'tag friend': 855, 'friend end': 310, 'end minute': 232, 'php giveaway follow': 651, 'giveaway follow retweet': 334, 'follow retweet tag': 295, 'retweet tag friend': 714, 'tag friend end': 857, 'friend end minute': 311, 'happy': 374, 'star': 815, 'war': 940, 'may': 549, 'star war': 817, 'watch': 942, 'slow': 785, 'finally': 279, 'rest': 710, 'season': 749, 'always': 20, 'feel': 272, 'sorry': 807, 'today': 883, 'come': 145, 'learn': 498, 'romance': 724, 'mean': 551, 'figure': 276, 'thing': 872, 'yet': 993, 'cry': 167, 'clean': 137, 'another': 28, 'small': 786, 'one': 621, 'keep': 476, 'look': 521, 'though': 875, 'quot': 687, 'say': 735, 'give': 327, 'away': 48, 'hell': 396, 'even': 241, 'suppose': 841, 'music': 593, 'die': 195, 'oh': 616, 'sick': 773, 'much': 589, 'im': 431, 'step': 821, 'angry': 27, 'mad': 537, 'hate': 382, 'fuck': 312, 'self': 757, 'care': 112, 'positive': 667, 'think': 873, 'ha': 361, 'ok': 617, 'boring': 89, 'thought': 876, 'tweet': 905, 'two': 909, 'hour': 412, 'know': 485, 'yr': 999, 'night': 606, 'hot': 411, 'summer': 835, 'fantasy': 265, 'break': 93, 'duke': 219, 'duchess': 215, 'sussex': 850, 'dedication': 183, 'online': 622, 'especially': 239, 'important': 432, 'thank duke': 867, 'duke duchess': 220, 'duchess sussex': 216, 'sussex dedication': 851, 'dedication end': 184, 'end hate': 230, 'hate online': 387, 'online especially': 623, 'especially important': 240, 'thank duke duchess': 868, 'duke duchess sussex': 221, 'duchess sussex dedication': 217, 'sussex dedication end': 852, 'dedication end hate': 185, 'end hate online': 231, 'hate online especially': 388, 'online especially important': 624, 'service': 762, 'internet': 445, 'cheer': 122, 'become': 64, 'inspiration': 441, 'others': 627, 'miss': 569, 'soul': 808, 'wait': 934, 'home': 407, 'eat': 225, 'hope': 409, 'something': 800, 'go home': 340, 'take': 858, 'whole': 955, 'new': 601, 'top': 889, 'reason': 699, 'kid': 478, 'best': 68, 'parent': 634, 'little': 514, 'child': 123, 'not': 610, 'episode': 238, 'couple': 161, 'year': 990, 'listen': 513, 'paid': 630, 'someone': 795, 'retweets': 715, 'along': 13, 'comment': 147, 'paid give': 631, 'give someone': 330, 'someone retweets': 796, 'retweets tweet': 716, 'tweet follow': 906, 'follow along': 292, 'along tag': 14, 'friend comment': 308, 'comment go': 148, 'paid give someone': 632, 'give someone retweets': 331, 'someone retweets tweet': 797, 'retweets tweet follow': 717, 'tweet follow along': 907, 'follow along tag': 293, 'along tag friend': 15, 'tag friend comment': 856, 'friend comment go': 309, 'america': 22, 'support': 840, 'shop': 768, 'want': 938, 'money': 574, 'hello': 397, 'dont': 208, 'wanna': 937, 'amp': 26, 'heart': 394, 'hug': 416, 'still': 822, 'back': 53, 'ya': 987, 'link': 511, 'truth': 901, 'test': 864, 'ur': 918, 'list': 512, 'hurt': 418, 'mother': 578, 'happy mother': 379, 'mother day': 579, 'happy mother day': 380, 'never': 600, 'ever': 243, 'believe': 67, 'wonder': 973, 'experience': 249, 'st': 813, 'black': 74, 'business': 101, 'beer': 66, 'lover': 532, 'monday': 573, 'cause': 114, 'movie': 587, 'forever': 299, 'trek': 897, 'star trek': 816, 'guess': 357, 'like': 509, 'try': 902, 'pm': 661, 'leave': 500, 'last': 488, 'weekend': 949, 'yes': 991, 'bring': 94, 'early': 222, 'birthday': 71, 'com': 144, 'rain': 691, 'drop': 214, 'pain': 633, 'peace': 641, 'damn': 174, 'morning': 577, 'baby': 52, 'wake': 935, 'good morning': 347, 'gonna': 344, 'stop': 823, 'tonight': 888, 'light': 508, 'sale': 731, 'success': 833, 'th': 865, 'wife': 956, 'lucky': 535, 'show': 771, 'post': 668, 'reply': 706, 'join': 456, 'police': 664, 'public': 677, 'health': 391, 'violence': 931, 'anyone': 32, 'follower': 296, 'team': 862, 'share': 766, 'join people': 457, 'people right': 643, 'join people right': 458, 'drinking': 212, 'beautiful': 63, 'gotta': 351, 'goodnight': 349, 'far': 266, 'instead': 443, 'challenge': 116, 'school': 748, 'anxiety': 29, 'problem': 672, 'anxious': 30, 'google': 350, 'street': 826, 'view': 930, 'run': 726, 'close': 139, 'second': 750, 'almost': 11, 'forgot': 301, 'water': 943, 'dog': 199, 'dream': 210, 'story': 825, 'head': 389, 'write': 983, 'jealous': 451, 'mom': 570, 'talk': 859, 'world': 978, 'picture': 653, 'cuz': 170, 'every': 244, 'enjoy': 236, 'ready': 694, 'work': 977, 'sunday': 837, 'last night': 489, 'stupid': 832, 'no': 608, 'respect': 707, 'move': 586, 'later': 491, 'god': 343, 'must': 594, 'month': 575, 'since': 776, 'exam': 247, 'least': 499, 'left': 501, 'yay': 988, 'finish': 286, 'covid': 163, 'stay': 820, 'vibe': 928, 'art': 38, 'good vibe': 348, 'news': 602, 'brutal': 100, 'facebook': 255, 'continue': 152, 'record': 700, 'set': 763, 'profit': 673, 'also': 17, 'ignore': 427, 'extremism': 250, 'platform': 656, 'facebook continue': 256, 'continue make': 155, 'make record': 543, 'record set': 701, 'set profit': 764, 'profit yet': 674, 'yet also': 994, 'also continue': 18, 'continue ignore': 153, 'ignore hate': 428, 'hate extremism': 385, 'extremism platform': 251, 'platform time': 657, 'facebook continue make': 257, 'continue make record': 156, 'make record set': 544, 'record set profit': 702, 'set profit yet': 765, 'profit yet also': 675, 'yet also continue': 995, 'also continue ignore': 19, 'continue ignore hate': 154, 'ignore hate extremism': 429, 'hate extremism platform': 386, 'extremism platform time': 252, 'live': 515, 'win': 957, 'weather': 946, 'train': 893, 'half': 366, 'cant': 109, 'add': 6, 'youtube': 998, 'june': 467, 'drink': 211, 'bore': 88, 'blue': 81, 'shower': 772, 'house': 413, 'saturday': 732, 'use': 919, 'first': 287, 'didnt': 194, 'anything': 33, 'red': 703, 'happiness': 372, 'lt': 533, 'club': 140, 'card': 111, 'find': 280, 'hair': 365, 'hahaha': 364, 'look like': 523, 'white': 954, 'fan': 263, 'page': 629, 'valentine': 922, 'valentine day': 923, 'dad': 171, 'dinner': 197, 'aw': 46, 'told': 885, 'gift': 325, 'class': 136, 'tell': 863, 'suck': 834, 'remember': 705, 'hopefully': 410, 'fine': 285, 'meaning': 552, 'song': 803, 'many': 546, 'dm': 198, 'trump': 900, 'friday': 306, 'copy': 158, 'sell': 758, 'true': 899, 'excite': 248, 'nice': 605, 'yesterday': 992, 'surprise justin': 848, 'justin merry': 471, 'christmas christmas': 128, 'christmas surprise justin': 134, 'surprise justin sb': 849, 'justin sb sb': 475, 'sb justin merry': 742, 'justin merry christmas': 472, 'merry christmas christmas': 561, 'hey': 400, 'message': 563, 'nan': 596, 'office': 615, 'place': 654, 'kinda': 481, 'sign': 775, 'body': 82, 'soon': 805, 'shopping': 769, 'short': 770, 'check': 121, 'store': 824, 'feel like': 273, 'sun': 836, 'company': 149, 'party': 637, 'posit': 666, 'happi': 370, 'late': 490, 'hand': 367, 'design': 193, 'omg': 620, 'hit': 403, 'big': 70, 'sound': 809, 'great': 352, 'saw': 734, 'ago': 7, 'australia': 43, 'group': 354, 'plan': 655, 'bank': 55, 'holiday': 406, 'bank holiday': 56, 'high': 402, 'drive': 213, 'inst': 442, 'room': 725, 'found': 303, 'part': 636, 'around': 37, 'bonus': 83, 'surprise bonus': 844, 'bonus justin': 84, 'christmas surprise bonus': 132, 'surprise bonus justin': 845, 'bonus justin sb': 85, 'way': 944, 'seem': 755, 'joy': 463, 'mental': 557, 'lady': 487, 'guy': 360, 'actually': 4, 'without': 962, 'bed': 65, 'feel well': 274, 'go bed': 338, 'food': 297, 'kind': 480, 'man': 545, 'min': 565, 'lunch': 536, 'uk': 914, 'poor': 665, 'mum': 592, 'kill': 479, 'lord': 524, 'cat': 113, 'sleep': 784, 'person': 645, 'forget': 300, 'welcome': 950, 'laugh': 492, 'incessantly': 436, 'husky': 422, 'puppy': 681, 'soft': 791, 'witter': 963, 'motivation': 583, 'htt': 415, 'dog give': 200, 'give joy': 328, 'joy make': 464, 'make laugh': 540, 'laugh incessantly': 495, 'incessantly husky': 437, 'husky dog': 423, 'dog puppy': 204, 'puppy dog': 682, 'dog soft': 206, 'soft witter': 792, 'witter motivation': 966, 'motivation happiness': 584, 'happiness htt': 373, 'dog give joy': 201, 'give joy make': 329, 'joy make laugh': 465, 'make laugh incessantly': 542, 'laugh incessantly husky': 496, 'incessantly husky dog': 438, 'husky dog puppy': 424, 'dog puppy dog': 205, 'puppy dog soft': 683, 'dog soft witter': 207, 'soft witter motivation': 794, 'witter motivation happiness': 967, 'motivation happiness htt': 585, 'racism': 689, 'across': 2, 'vote': 933, 'democrat': 187, 'sit': 782, 'tire': 882, 'thats': 870, 'phone': 646, 'read': 692, 'bit': 73, 'cool': 157, 'forward': 302, 'look forward': 522, 'ad': 5, 'put': 684, 'open': 625, 'amaze': 21, 'warm': 941, 'hi': 401, 'come back': 146, 'could': 159, 'wish could': 960, 'hear': 392, 'mine': 567, 'video': 929, 'smile': 787, 'mood': 576, 'call': 106, 'crazy': 164, 'together': 884, 'three': 877, 'matter': 548, 'photo': 647, 'study': 830, 'outside': 628, 'wear': 945, 'beat': 62, 'chill': 124, 'free': 305, 'totally': 890, 'buy': 103, 'everyone': 245, 'tea': 860, 'celebrate': 115, 'blog': 80, 'final': 278, 'woman': 972, 'site': 783, 'hold': 404, 'walk': 936, 'power': 669, 'happy birthday': 375, 'launch': 497, 'realize': 697, 'via': 927, 'point': 663, 'artist': 39, 'real': 695, 'awake': 47, 'get ready': 324, 'eye': 253, 'moment': 571, 'sweet': 853, 'super': 838, 'busy': 102, 'park': 635, 'lovely': 531, 'perfect': 644, 'inside': 440, 'go back': 337, 'wonderful': 974, 'worth': 980, 'fight': 275, 'nothing': 611, 'incessantli': 433, 'huski': 419, 'puppi': 678, 'motiv': 580, 'laugh incessantli': 493, 'incessantli huski': 434, 'huski dog': 420, 'dog puppi': 202, 'puppi dog': 679, 'witter motiv': 964, 'motiv happi': 581, 'happi htt': 371, 'make laugh incessantli': 541, 'laugh incessantli huski': 494, 'incessantli huski dog': 435, 'huski dog puppi': 421, 'dog puppi dog': 203, 'puppi dog soft': 680, 'soft witter motiv': 793, 'witter motiv happi': 965, 'motiv happi htt': 582, 'beach': 61, 'already': 16, 'however': 414, 'played': 659, 'order': 626, 'thi': 871, 'journey': 462, 'cute': 169, 'wedding': 947, 'next': 603, 'job': 455, 'maybe': 550, 'death': 182, 'social': 788, 'medium': 553, 'tv': 904, 'gt': 356, 'young': 997, 'woke': 971, 'favorite': 271, 'future': 318, 'please': 660, 'less': 502, 'hahah': 363, 'bless': 79, 'chat': 119, 'state': 819, 'relationship': 704, 'best friend': 69, 'father': 269, 'happy father': 377, 'father day': 270, 'happy father day': 378, 'dude': 218, 'return': 711, 'action': 3, 'green': 353, 'headache': 390, 'else': 228, 'everything': 246, 'mind': 566, 'next week': 604, 'meet': 554, 'game': 319, 'men': 556, 'fashion': 267, 'create': 166, 'ton': 887, 'four': 304, 'send': 759, 'spread': 812, 'serbia': 760, 'pretty': 670, 'flower': 290, 'different': 196, 'reality': 696, 'tho': 874, 'fail': 258, 'pic': 652, 'visit': 932, 'ill': 430, 'brother': 97, 'deal': 180, 'ice': 425, 'cream': 165, 'jane': 447, 'stand': 814, 'xd': 985, 'broke': 95, 'foot': 298, 'easy': 224, 'sing': 777, 'probably': 671, 'cheat': 120, 'xx': 986, 'word': 976, 'bout': 90, 'idea': 426, 'first time': 288, 'wks': 968, 'deserves': 190, 'endless': 233, 'bashing': 58, 'justice': 468, 'racket': 690, 'wks america': 969, 'america deserves': 23, 'deserves respect': 191, 'respect endless': 708, 'endless bashing': 234, 'bashing social': 59, 'social justice': 789, 'justice racket': 469, 'wks america deserves': 970, 'america deserves respect': 24, 'deserves respect endless': 192, 'respect endless bashing': 709, 'endless bashing social': 235, 'bashing social justice': 60, 'social justice racket': 790, 'boo': 86, 'might': 564, 'co': 141, 'nature': 597, 'film': 277, 'able': 0, 'kindness': 483, 'happen': 369, 'sometimes': 801, 'event': 242, 'absolutely': 1, 'sooo': 806, 'sigh': 774, 'life': 506, 'rock': 723, 'touch': 891, 'download': 209, 'goal': 342, 'rise': 721, 'shit': 767, 'computer': 150, 'treat': 895, 'yo': 996, 'love much': 529, 'much guess': 590, 'guess fuck': 358, 'fuck find': 313, 'find well': 283, 'well find': 952, 'find someone': 281, 'someone treat': 798, 'treat yo': 896, 'love much guess': 530, 'much guess fuck': 591, 'guess fuck find': 359, 'fuck find well': 314, 'find well find': 284, 'well find someone': 953, 'find someone treat': 282, 'someone treat yo': 799, 'lil': 510, 'fix': 289, 'meeting': 555, 'earring': 223, 'quote': 688, 'heartbreak': 395, 'aww': 50, 'dear': 181, 'jay': 450, 'lie': 505, 'face': 254, 'huge': 417, 'hop': 408, 'peac': 640, 'concert': 151, 'grow': 355, 'pay': 639, 'knew': 484, 'agree': 8, 'road': 722, 'coffee': 142, 'hard': 381, 'photography': 648, 'get back': 322, 'awesome': 49, 'lose': 525, 'turn': 903, 'magic': 538, 'within': 961, 'country': 160, 'american': 25, 'fantastic': 264, 'bye': 104, 'cannot': 108, 'la': 486, 'mat': 547, 'black brother': 75, 'brother sister': 98, 'sister see': 780, 'see use': 752, 'use democrat': 920, 'democrat run': 188, 'run nothing': 727, 'nothing hate': 612, 'hate black': 383, 'black life': 77, 'life mat': 507, 'black brother sister': 76, 'brother sister see': 99, 'sister see use': 781, 'see use democrat': 753, 'use democrat run': 921, 'democrat run nothing': 189, 'run nothing hate': 728, 'nothing hate black': 613, 'hate black life': 384, 'black life mat': 78, 'review': 718, 'speak': 810, 'good day': 346, 'ugh': 913, 'stuck': 829, 'upset': 917, 'town': 892, 'past': 638, 'single': 778, 'author': 44, 'okay': 618, 'fat': 268, 'son': 802, 'luck': 534, 'lock': 518, 'key': 477, 'car': 110, 'dada': 172, 'birthday dada': 72, 'happy birthday dada': 376, 'go see': 341, 'update': 915, 'living': 516, 'kindle': 482, 'july': 466, 'definitely': 186, 'let know': 504, 'hero': 399, 'cake': 105, 'upload': 916, 'travel': 894, 'quite': 686, 'seek': 754, 'till': 880, 'want go': 939, 'cold': 143, 'ride': 719, 'stress': 827, 'available': 45, 'box': 91, 'cleaning': 138, 'interest': 444, 'broken': 96, 'mommy': 572, 'awww': 51, 'name': 595, 'stuff': 831, 'ah': 9, 'number': 614, 'wood': 975, 'wine': 958, 'egg': 226, 'nite': 607, 'holder': 405, 'egg holder': 227, 'trip': 898, 'nd': 598, 'lmao': 517, 'india': 439, 'cancel': 107, 'project': 676, 'album': 10, 'cover': 162, 'poetry': 662, 'no one': 609, 'love love': 528, 'mr': 588, 'city': 135, 'iphone': 446, 'glad': 335, 'daily': 173, 'teacher': 861, 'day mom': 178, 'special': 811, 'austen': 41, 'jane austen': 448, 'austen book': 42, 'jane austen book': 449, 'dance': 175, 'go get': 339, 'wrong': 984, 'get home': 323, 'garden': 320, 'date': 176, 'save': 733, 'thursday': 878, 'series': 761, 'worry': 979, 'heard': 393}\n"
          ]
        }
      ]
    },
    {
      "cell_type": "code",
      "metadata": {
        "id": "mhRIvfpM-hD5"
      },
      "source": [
        "bow = tfidf.fit_transform(data_train.iloc[:,0].astype('U'))\n"
      ],
      "execution_count": null,
      "outputs": []
    },
    {
      "cell_type": "markdown",
      "metadata": {
        "id": "G3m_zx_0PUTM"
      },
      "source": [
        "**Now we will plot what we have done in the Above transform with word vs frequency**\n",
        "\n",
        "* first we will convert it into dictionary so that we will get word : frequecy data\n",
        "\n",
        "* We will take top 30 freqeucy and convert into Bar Plot\n"
      ]
    },
    {
      "cell_type": "code",
      "metadata": {
        "colab": {
          "base_uri": "https://localhost:8080/",
          "height": 642
        },
        "id": "YOHh01PO_mZJ",
        "outputId": "ed793c84-bea1-4729-be4a-3e70eac208ee"
      },
      "source": [
        "word_freq = dict(zip(tfidf.get_feature_names(), np.asarray(bow.sum(axis=0)).ravel()))\n",
        "\n",
        "word_counter = collections.Counter(word_freq)\n",
        "\n",
        "word_counter_df = pd.DataFrame(word_counter.most_common(30), columns = ['word', 'freq'])\n",
        "\n",
        "fig, ax = plt.subplots(figsize=(15, 10))\n",
        "sns.barplot(x=\"word\", y=\"freq\", data= word_counter_df, ax=ax, palette=\"plasma\")\n",
        "\n",
        "plt.show();"
      ],
      "execution_count": null,
      "outputs": [
        {
          "output_type": "stream",
          "name": "stderr",
          "text": [
            "/usr/local/lib/python3.7/dist-packages/sklearn/utils/deprecation.py:87: FutureWarning: Function get_feature_names is deprecated; get_feature_names is deprecated in 1.0 and will be removed in 1.2. Please use get_feature_names_out instead.\n",
            "  warnings.warn(msg, category=FutureWarning)\n"
          ]
        },
        {
          "output_type": "display_data",
          "data": {
            "image/png": "[encoded data removed]",
            "text/plain": [
              "<Figure size 1080x720 with 1 Axes>"
            ]
          },
          "metadata": {
            "needs_background": "light"
          }
        }
      ]
    },
    {
      "cell_type": "markdown",
      "metadata": {
        "id": "I5LY5X_fQmBA"
      },
      "source": [
        "**Sklearn Provides Tf-idf vectorization function to convert directly into vectors**\n",
        "\n",
        "*So we will be importing it from sklearn.feature_extraction and in text module*"
      ]
    },
    {
      "cell_type": "code",
      "metadata": {
        "id": "MEBr-d0WAHtl"
      },
      "source": [
        "from sklearn.feature_extraction.text import CountVectorizer"
      ],
      "execution_count": null,
      "outputs": []
    },
    {
      "cell_type": "code",
      "metadata": {
        "id": "Ly-q4wMCACTj"
      },
      "source": [
        "count_vect = CountVectorizer(analyzer='word')\n",
        "count_vect.fit(data_train.iloc[:,0].astype('U'))\n",
        "X_train_count =  count_vect.transform(X_train.astype('U'))\n",
        "X_val_count =  count_vect.transform(X_val.astype('U'))"
      ],
      "execution_count": null,
      "outputs": []
    },
    {
      "cell_type": "code",
      "metadata": {
        "id": "Yiq9KrmVAl4c"
      },
      "source": [
        "count_vect.vocabulary_"
      ],
      "execution_count": null,
      "outputs": []
    },
    {
      "cell_type": "code",
      "metadata": {
        "colab": {
          "base_uri": "https://localhost:8080/",
          "height": 681
        },
        "id": "W2xZe1vkAyJ_",
        "outputId": "95b88fb6-2563-41b4-e1cc-8c104c4f2fda"
      },
      "source": [
        "bow = count_vect.fit_transform(data_train.iloc[:,0].astype('U'))\n",
        "print(bow.shape)\n",
        "word_freq = dict(zip(count_vect.get_feature_names(), np.asarray(bow.sum(axis=0)).ravel()))\n",
        "word_counter = collections.Counter(word_freq)\n",
        "word_counter_df = pd.DataFrame(word_counter.most_common(30), columns = ['word', 'freq'])\n",
        "fig, ax = plt.subplots(figsize=(15, 10))\n",
        "sns.barplot(x=\"word\", y=\"freq\", data= word_counter_df, ax=ax, palette=\"plasma\")\n",
        "plt.show();"
      ],
      "execution_count": null,
      "outputs": [
        {
          "output_type": "stream",
          "name": "stdout",
          "text": [
            "(62014, 32778)\n"
          ]
        },
        {
          "output_type": "stream",
          "name": "stderr",
          "text": [
            "/usr/local/lib/python3.7/dist-packages/sklearn/utils/deprecation.py:87: FutureWarning: Function get_feature_names is deprecated; get_feature_names is deprecated in 1.0 and will be removed in 1.2. Please use get_feature_names_out instead.\n",
            "  warnings.warn(msg, category=FutureWarning)\n"
          ]
        },
        {
          "output_type": "display_data",
          "data": {
            "image/png": "[encoded data removed]",
            "text/plain": [
              "<Figure size 1080x720 with 1 Axes>"
            ]
          },
          "metadata": {
            "needs_background": "light"
          }
        }
      ]
    },
    {
      "cell_type": "markdown",
      "metadata": {
        "id": "lJkQ6c-49l67"
      },
      "source": [
        "# Building models using different classifiers (TF-IDF vectorizer)\n",
        "##Model 1: Multinomial Naive Bayes Classifier text"
      ]
    },
    {
      "cell_type": "code",
      "metadata": {
        "id": "9ei-evZMBAMU"
      },
      "source": [
        "from sklearn.naive_bayes import MultinomialNB\n",
        "from sklearn.metrics import accuracy_score"
      ],
      "execution_count": null,
      "outputs": []
    },
    {
      "cell_type": "code",
      "metadata": {
        "colab": {
          "base_uri": "https://localhost:8080/"
        },
        "id": "1ldEJExFA2-R",
        "outputId": "a6850d91-2339-4eb1-f3a9-5b7932e0bfee"
      },
      "source": [
        "nb = MultinomialNB()\n",
        "nb.fit(X_train_tfidf, y_train)\n",
        "y_pred = nb.predict(X_val_tfidf)\n",
        "print('naive bayes tfidf accuracy %s' % accuracy_score(y_pred, y_val))"
      ],
      "execution_count": null,
      "outputs": [
        {
          "output_type": "stream",
          "name": "stdout",
          "text": [
            "naive bayes tfidf accuracy 0.3853410740203193\n"
          ]
        }
      ]
    },
    {
      "cell_type": "markdown",
      "metadata": {
        "id": "Co9Z8tk79xI9"
      },
      "source": [
        "##Model 2: Linear SVM\n"
      ]
    },
    {
      "cell_type": "code",
      "metadata": {
        "id": "KEDNbtS2Bdcy"
      },
      "source": [
        "from sklearn.linear_model import SGDClassifier"
      ],
      "execution_count": null,
      "outputs": []
    },
    {
      "cell_type": "code",
      "metadata": {
        "colab": {
          "base_uri": "https://localhost:8080/"
        },
        "id": "fpFFQHNxBY9_",
        "outputId": "90b872ea-2daf-4777-d978-b9dc20b0fe0e"
      },
      "source": [
        "lsvm = SGDClassifier(alpha=0.001, random_state=5, max_iter=15, tol=None)\n",
        "lsvm.fit(X_train_tfidf, y_train)\n",
        "y_pred = lsvm.predict(X_val_tfidf)\n",
        "print('svm using tfidf accuracy %s' % accuracy_score(y_pred, y_val))"
      ],
      "execution_count": null,
      "outputs": [
        {
          "output_type": "stream",
          "name": "stdout",
          "text": [
            "svm using tfidf accuracy 0.3802612481857765\n"
          ]
        }
      ]
    },
    {
      "cell_type": "markdown",
      "metadata": {
        "id": "DdYIe94o96rI"
      },
      "source": [
        "# Model 3: logistic regression"
      ]
    },
    {
      "cell_type": "code",
      "metadata": {
        "id": "Q6PNfQazBqWo"
      },
      "source": [
        "from sklearn.linear_model import LogisticRegression"
      ],
      "execution_count": null,
      "outputs": []
    },
    {
      "cell_type": "code",
      "metadata": {
        "colab": {
          "base_uri": "https://localhost:8080/"
        },
        "id": "DBsk6H_bBmQc",
        "outputId": "66d7328a-2be9-414b-aacd-5f84cad420f0"
      },
      "source": [
        "logreg = LogisticRegression(C=1, max_iter=1000)\n",
        "logreg.fit(X_train_tfidf, y_train)\n",
        "y_pred = logreg.predict(X_val_tfidf)\n",
        "print('log reg tfidf accuracy %s' % accuracy_score(y_pred, y_val))"
      ],
      "execution_count": null,
      "outputs": [
        {
          "output_type": "stream",
          "name": "stdout",
          "text": [
            "log reg tfidf accuracy 0.39461377197226255\n"
          ]
        }
      ]
    },
    {
      "cell_type": "code",
      "metadata": {
        "id": "O-J0aOPvDHvn"
      },
      "source": [
        "########COUNT VECTOR"
      ],
      "execution_count": null,
      "outputs": []
    },
    {
      "cell_type": "markdown",
      "metadata": {
        "id": "lY2JU3ZF9-be"
      },
      "source": [
        "##Building models using different classifiers (Count vectorizer)\n",
        "#Model 1: Multinomial Naive Bayes Classifier"
      ]
    },
    {
      "cell_type": "code",
      "metadata": {
        "colab": {
          "base_uri": "https://localhost:8080/"
        },
        "id": "BzEIO0PPDH3C",
        "outputId": "17ff8dcd-ead7-4a70-d05c-14a98f5a21c6"
      },
      "source": [
        "nb1 = MultinomialNB()\n",
        "nb1.fit(X_train_count, y_train)\n",
        "y_pred = nb1.predict(X_val_count)\n",
        "print('naive bayes count vectors accuracy %s' % accuracy_score(y_pred, y_val))"
      ],
      "execution_count": null,
      "outputs": [
        {
          "output_type": "stream",
          "name": "stdout",
          "text": [
            "naive bayes count vectors accuracy 0.584663763909047\n"
          ]
        }
      ]
    },
    {
      "cell_type": "markdown",
      "metadata": {
        "id": "juimVmr8-Dz5"
      },
      "source": [
        "##Model 2: Logistic Regression"
      ]
    },
    {
      "cell_type": "code",
      "metadata": {
        "colab": {
          "base_uri": "https://localhost:8080/"
        },
        "id": "tIxAL_ILDH-I",
        "outputId": "de0c6b2e-938f-48b7-cdc4-1aa055ec6bf0"
      },
      "source": [
        "logreg1 = LogisticRegression(C=1, max_iter=500)\n",
        "logreg1.fit(X_train_count, y_train)\n",
        "y_pred = logreg1.predict(X_val_count)\n",
        "print('log reg count vectors accuracy %s' % accuracy_score(y_pred, y_val))"
      ],
      "execution_count": null,
      "outputs": [
        {
          "output_type": "stream",
          "name": "stdout",
          "text": [
            "log reg count vectors accuracy 0.6248185776487664\n"
          ]
        }
      ]
    },
    {
      "cell_type": "markdown",
      "metadata": {
        "id": "FIMwR0yA-IBn"
      },
      "source": [
        "##Model 3: Linear SVM"
      ]
    },
    {
      "cell_type": "code",
      "metadata": {
        "colab": {
          "base_uri": "https://localhost:8080/"
        },
        "id": "70f2eJglDQmi",
        "outputId": "ce064f5e-1775-45e0-8dcd-6071ba20a458"
      },
      "source": [
        "lsvm1 = SGDClassifier(alpha=0.001, random_state=5, max_iter=2, tol=None)\n",
        "lsvm1.fit(X_train_count, y_train)\n",
        "y_pred = lsvm1.predict(X_val_count)\n",
        "print('lsvm using count vectors accuracy %s' % accuracy_score(y_pred, y_val))"
      ],
      "execution_count": null,
      "outputs": [
        {
          "output_type": "stream",
          "name": "stdout",
          "text": [
            "lsvm using count vectors accuracy 0.620061280438639\n"
          ]
        }
      ]
    },
    {
      "cell_type": "code",
      "metadata": {
        "id": "_I3NR2BFs8jr"
      },
      "source": [
        "# !wget http://nlp.stanford.edu/data/glove.twitter.27B.zip"
      ],
      "execution_count": null,
      "outputs": []
    }
  ]
}