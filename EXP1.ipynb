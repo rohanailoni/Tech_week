{
  "nbformat": 4,
  "nbformat_minor": 0,
  "metadata": {
    "colab": {
      "name": "EXP1.ipynb",
      "provenance": [],
      "authorship_tag": "ABX9TyNWRYg5gsnJCxVG4zBDRpxH",
      "include_colab_link": true
    },
    "kernelspec": {
      "name": "python3",
      "display_name": "Python 3"
    },
    "language_info": {
      "name": "python"
    }
  },
  "cells": [
    {
      "cell_type": "markdown",
      "metadata": {
        "id": "view-in-github",
        "colab_type": "text"
      },
      "source": [
        "<a href=\"https://colab.research.google.com/github/rohanailoni/Tech_week/blob/main/EXP1.ipynb\" target=\"_parent\"><img src=\"https://colab.research.google.com/assets/colab-badge.svg\" alt=\"Open In Colab\"/></a>"
      ]
    },
    {
      "cell_type": "markdown",
      "metadata": {
        "id": "_t-br68c0Lsl"
      },
      "source": [
        "**Importing the first important modules pandas csv numpy and pickle**\n",
        "\n",
        "* Matplotlib for ploting graphs\n",
        "* Seaborn is a libary which is build upon matplotlib can return plots which is more attractive and interactive\n",
        "* Pickle for importing python functions\n",
        "* collections for conveting the arrays into dictionary\n"
      ]
    },
    {
      "cell_type": "code",
      "metadata": {
        "id": "oxtABbLMiZTr"
      },
      "source": [
        "import pandas as pd\n",
        "import csv\n",
        "import numpy as np\n",
        "import matplotlib.pyplot as plt\n",
        "import pickle\n",
        "import seaborn as sns\n",
        "import collections"
      ],
      "execution_count": null,
      "outputs": []
    },
    {
      "cell_type": "markdown",
      "metadata": {
        "id": "xDRy4b0_EurL"
      },
      "source": [
        "**Before most important thing is to pull dataset form github colab has a inbuild function is wget which can import functions**"
      ]
    },
    {
      "cell_type": "code",
      "metadata": {
        "colab": {
          "base_uri": "https://localhost:8080/"
        },
        "id": "IX2HVt-eqOLS",
        "outputId": "3ffb546e-9614-4487-9cf2-37541c518282"
      },
      "source": [
        "url = 'https://raw.githubusercontent.com/rohanailoni/Tech_week/master/cleaned_data/emotion_data_prep.csv'\n",
        "!wget $url"
      ],
      "execution_count": null,
      "outputs": [
        {
          "output_type": "stream",
          "name": "stdout",
          "text": [
            "--2021-11-22 04:42:23--  https://raw.githubusercontent.com/rohanailoni/Tech_week/master/cleaned_data/emotion_data_prep.csv\n",
            "Resolving raw.githubusercontent.com (raw.githubusercontent.com)... 185.199.108.133, 185.199.110.133, 185.199.111.133, ...\n",
            "Connecting to raw.githubusercontent.com (raw.githubusercontent.com)|185.199.108.133|:443... connected.\n",
            "HTTP request sent, awaiting response... 200 OK\n",
            "Length: 3308292 (3.2M) [text/plain]\n",
            "Saving to: ‘emotion_data_prep.csv’\n",
            "\n",
            "emotion_data_prep.c 100%[===================>]   3.15M  --.-KB/s    in 0.08s   \n",
            "\n",
            "2021-11-22 04:42:23 (42.1 MB/s) - ‘emotion_data_prep.csv’ saved [3308292/3308292]\n",
            "\n"
          ]
        }
      ]
    },
    {
      "cell_type": "markdown",
      "metadata": {
        "id": "cpmWsLi-FWvK"
      },
      "source": [
        "**We Will read the csv using pandas which convets the byte stream from the file to DataFrame which is an Pandas inbuild Object**\n",
        "\n",
        "*There is also a Possibility that the some csv files will be now decoded using UTF-8 So it is safer to use UTF-8 for large dataset so that while trianing it deosnt causes **NAN** Error*\n"
      ]
    },
    {
      "cell_type": "code",
      "metadata": {
        "colab": {
          "base_uri": "https://localhost:8080/"
        },
        "id": "2KvTINGYoyMv",
        "outputId": "e4c54b95-0b02-4e2b-8598-0d7f44d7f01d"
      },
      "source": [
        "data_train = pd.read_csv('/content/emotion_data_prep.csv', sep=',', encoding='utf-8')\n",
        "print(\"Dataset shape:\",data_train.shape)"
      ],
      "execution_count": null,
      "outputs": [
        {
          "output_type": "stream",
          "name": "stdout",
          "text": [
            "Dataset shape: (62014, 2)\n"
          ]
        }
      ]
    },
    {
      "cell_type": "markdown",
      "metadata": {
        "id": "hSuTlVRNGTjz"
      },
      "source": [
        "**Now this how our output have been index(cleaned )**\n",
        "\n",
        "> 0----neutral\n",
        "\n",
        "> 1----Happy\n",
        "\n",
        "> 2 ----Sad\n",
        "\n",
        "> 3-----love\n",
        "\n",
        "> 4-----anger\n",
        "\n"
      ]
    },
    {
      "cell_type": "code",
      "metadata": {
        "colab": {
          "base_uri": "https://localhost:8080/"
        },
        "id": "sDBi8d7yGtlb",
        "outputId": "13762242-a308-4cb4-b3e5-f29d23e86b78"
      },
      "source": [
        "data_train.iloc[:,1].value_counts()"
      ],
      "execution_count": null,
      "outputs": [
        {
          "output_type": "execute_result",
          "data": {
            "text/plain": [
              "1    22021\n",
              "2    14844\n",
              "0     9643\n",
              "3     8801\n",
              "4     6705\n",
              "Name: 3, dtype: int64"
            ]
          },
          "metadata": {},
          "execution_count": 45
        }
      ]
    },
    {
      "cell_type": "markdown",
      "metadata": {
        "id": "x6H6qwcaG108"
      },
      "source": [
        "**From The above we can see that the Now using seaborn barplot Let us plot using Emotions count in Dataset**\n"
      ]
    },
    {
      "cell_type": "code",
      "metadata": {
        "colab": {
          "base_uri": "https://localhost:8080/",
          "height": 502
        },
        "id": "z5NfESVZ9BWC",
        "outputId": "dab663a9-5148-462e-9eeb-33fc75dc01b4"
      },
      "source": [
        "#plotting the Graph\n",
        "\n",
        "\n",
        "\n",
        "# 0 = neutral\n",
        "# 1 = happy\n",
        "# 2 = sad\n",
        "# 3 = love\n",
        "# 4 = anger"
      ],
      "execution_count": null,
      "outputs": [
        {
          "output_type": "stream",
          "name": "stderr",
          "text": [
            "/usr/local/lib/python3.7/dist-packages/seaborn/_decorators.py:43: FutureWarning: Pass the following variables as keyword args: x, y. From version 0.12, the only valid positional argument will be `data`, and passing other arguments without an explicit keyword will result in an error or misinterpretation.\n",
            "  FutureWarning\n"
          ]
        },
        {
          "output_type": "display_data",
          "data": {
            "image/png": "[encoded data removed]",
            "text/plain": [
              "<Figure size 648x504 with 1 Axes>"
            ]
          },
          "metadata": {
            "needs_background": "light"
          }
        }
      ]
    },
    {
      "cell_type": "markdown",
      "metadata": {
        "id": "UTuLZp6hLLvo"
      },
      "source": [
        "**For Verification we need to divide out data into 2 sets**<br/>\n",
        "> X_train contains all a part of data_train\n",
        "\n",
        "> y_train contains labels of the X_train\n",
        "\n",
        "> x_val will be remaining Array contains fro validation of our models\n",
        "\n",
        "> y_val will be labels for x_val\n"
      ]
    },
    {
      "cell_type": "code",
      "metadata": {
        "id": "PsqJR-9k9SGk"
      },
      "source": [
        "skip=49611\n",
        "X_train = data_train.iloc[:,0][:skip]\n",
        "\n",
        "y_train = data_train.iloc[:,-1][:skip]\n",
        "\n",
        "X_val = data_train.iloc[:,0][skip+1:]\n",
        "\n",
        "y_val = data_train.iloc[:,-1][skip+1:]"
      ],
      "execution_count": null,
      "outputs": []
    },
    {
      "cell_type": "markdown",
      "metadata": {
        "id": "HmKyIwu0MQxu"
      },
      "source": [
        "**First All the models take inputs as the Numbers so we needed to convert our Sentences into numbers but the numbers Directly converted into numbers because each word lose significant with each other and inturn our models cannot identify Significace between different Sentences**\n",
        "\n",
        "<br/>\n",
        "<br/>\n",
        "\n",
        "*There are two Methods of conveting the text into 2D Vectors(Embeddings Is discussing in the next Session):-*\n",
        "\n",
        "\n",
        "> Tf-IDF Vectrization\n",
        "\n",
        ">Count Vectoization"
      ]
    },
    {
      "cell_type": "markdown",
      "metadata": {
        "id": "X_CqlH6KOhg0"
      },
      "source": [
        "**Sklearn Provides Tf-idf vectorization function to convert directly into vectors**\n",
        "\n",
        "*So we will be importing it from sklearn.feature_extraction and in text module*\n"
      ]
    },
    {
      "cell_type": "code",
      "metadata": {
        "id": "ZJc-ikl09fTH"
      },
      "source": [
        "from sklearn.feature_extraction.text import TfidfVectorizer"
      ],
      "execution_count": null,
      "outputs": []
    },
    {
      "cell_type": "code",
      "metadata": {
        "id": "ETOqS1oS9nl1"
      },
      "source": [
        ""
      ],
      "execution_count": null,
      "outputs": []
    },
    {
      "cell_type": "code",
      "metadata": {
        "id": "mhRIvfpM-hD5"
      },
      "source": [
        "bow = tfidf.fit_transform(data_train.iloc[:,0].astype('U'))\n"
      ],
      "execution_count": null,
      "outputs": []
    },
    {
      "cell_type": "markdown",
      "metadata": {
        "id": "G3m_zx_0PUTM"
      },
      "source": [
        "**Now we will plot what we have done in the Above transform with word vs frequency**\n",
        "\n",
        "* first we will convert it into dictionary so that we will get word : frequecy data\n",
        "\n",
        "* We will take top 30 freqeucy and convert into Bar Plot\n"
      ]
    },
    {
      "cell_type": "code",
      "metadata": {
        "id": "YOHh01PO_mZJ"
      },
      "source": [
        ""
      ],
      "execution_count": null,
      "outputs": []
    },
    {
      "cell_type": "markdown",
      "metadata": {
        "id": "I5LY5X_fQmBA"
      },
      "source": [
        "**Sklearn Provides Tf-idf vectorization function to convert directly into vectors**\n",
        "\n",
        "*So we will be importing it from sklearn.feature_extraction and in text module*"
      ]
    },
    {
      "cell_type": "code",
      "metadata": {
        "id": "MEBr-d0WAHtl"
      },
      "source": [
        "from sklearn.feature_extraction.text import CountVectorizer"
      ],
      "execution_count": null,
      "outputs": []
    },
    {
      "cell_type": "code",
      "metadata": {
        "id": "Ly-q4wMCACTj"
      },
      "source": [
        ""
      ],
      "execution_count": null,
      "outputs": []
    },
    {
      "cell_type": "code",
      "metadata": {
        "id": "Yiq9KrmVAl4c"
      },
      "source": [
        "count_vect.vocabulary_"
      ],
      "execution_count": null,
      "outputs": []
    },
    {
      "cell_type": "code",
      "metadata": {
        "id": "W2xZe1vkAyJ_"
      },
      "source": [
        ""
      ],
      "execution_count": null,
      "outputs": []
    },
    {
      "cell_type": "markdown",
      "metadata": {
        "id": "lJkQ6c-49l67"
      },
      "source": [
        "# Building models using different classifiers (TF-IDF vectorizer)\n",
        "##Model 1: Multinomial Naive Bayes Classifier text"
      ]
    },
    {
      "cell_type": "code",
      "metadata": {
        "id": "9ei-evZMBAMU"
      },
      "source": [
        "from sklearn.naive_bayes import MultinomialNB\n",
        "from sklearn.metrics import accuracy_score"
      ],
      "execution_count": null,
      "outputs": []
    },
    {
      "cell_type": "code",
      "metadata": {
        "colab": {
          "base_uri": "https://localhost:8080/"
        },
        "id": "1ldEJExFA2-R",
        "outputId": "a6850d91-2339-4eb1-f3a9-5b7932e0bfee"
      },
      "source": [
        ""
      ],
      "execution_count": null,
      "outputs": [
        {
          "output_type": "stream",
          "name": "stdout",
          "text": [
            "naive bayes tfidf accuracy 0.3853410740203193\n"
          ]
        }
      ]
    },
    {
      "cell_type": "markdown",
      "metadata": {
        "id": "Co9Z8tk79xI9"
      },
      "source": [
        "##Model 2: Linear SVM\n"
      ]
    },
    {
      "cell_type": "code",
      "metadata": {
        "id": "KEDNbtS2Bdcy"
      },
      "source": [
        "from sklearn.linear_model import SGDClassifier"
      ],
      "execution_count": null,
      "outputs": []
    },
    {
      "cell_type": "code",
      "metadata": {
        "colab": {
          "base_uri": "https://localhost:8080/"
        },
        "id": "fpFFQHNxBY9_",
        "outputId": "90b872ea-2daf-4777-d978-b9dc20b0fe0e"
      },
      "source": [
        ""
      ],
      "execution_count": null,
      "outputs": [
        {
          "output_type": "stream",
          "name": "stdout",
          "text": [
            "svm using tfidf accuracy 0.3802612481857765\n"
          ]
        }
      ]
    },
    {
      "cell_type": "markdown",
      "metadata": {
        "id": "DdYIe94o96rI"
      },
      "source": [
        "# Model 3: logistic regression"
      ]
    },
    {
      "cell_type": "code",
      "metadata": {
        "id": "Q6PNfQazBqWo"
      },
      "source": [
        "from sklearn.linear_model import LogisticRegression"
      ],
      "execution_count": null,
      "outputs": []
    },
    {
      "cell_type": "code",
      "metadata": {
        "colab": {
          "base_uri": "https://localhost:8080/"
        },
        "id": "DBsk6H_bBmQc",
        "outputId": "66d7328a-2be9-414b-aacd-5f84cad420f0"
      },
      "source": [
        ""
      ],
      "execution_count": null,
      "outputs": [
        {
          "output_type": "stream",
          "name": "stdout",
          "text": [
            "log reg tfidf accuracy 0.39461377197226255\n"
          ]
        }
      ]
    },
    {
      "cell_type": "code",
      "metadata": {
        "id": "O-J0aOPvDHvn"
      },
      "source": [
        "########COUNT VECTOR"
      ],
      "execution_count": null,
      "outputs": []
    },
    {
      "cell_type": "markdown",
      "metadata": {
        "id": "lY2JU3ZF9-be"
      },
      "source": [
        "##Building models using different classifiers (Count vectorizer)\n",
        "#Model 1: Multinomial Naive Bayes Classifier"
      ]
    },
    {
      "cell_type": "code",
      "metadata": {
        "colab": {
          "base_uri": "https://localhost:8080/"
        },
        "id": "BzEIO0PPDH3C",
        "outputId": "17ff8dcd-ead7-4a70-d05c-14a98f5a21c6"
      },
      "source": [
        ""
      ],
      "execution_count": null,
      "outputs": [
        {
          "output_type": "stream",
          "name": "stdout",
          "text": [
            "naive bayes count vectors accuracy 0.584663763909047\n"
          ]
        }
      ]
    },
    {
      "cell_type": "markdown",
      "metadata": {
        "id": "juimVmr8-Dz5"
      },
      "source": [
        "##Model 2: Logistic Regression"
      ]
    },
    {
      "cell_type": "code",
      "metadata": {
        "colab": {
          "base_uri": "https://localhost:8080/"
        },
        "id": "tIxAL_ILDH-I",
        "outputId": "de0c6b2e-938f-48b7-cdc4-1aa055ec6bf0"
      },
      "source": [
        ""
      ],
      "execution_count": null,
      "outputs": [
        {
          "output_type": "stream",
          "name": "stdout",
          "text": [
            "log reg count vectors accuracy 0.6248185776487664\n"
          ]
        }
      ]
    },
    {
      "cell_type": "markdown",
      "metadata": {
        "id": "FIMwR0yA-IBn"
      },
      "source": [
        "##Model 3: Linear SVM"
      ]
    },
    {
      "cell_type": "code",
      "metadata": {
        "colab": {
          "base_uri": "https://localhost:8080/"
        },
        "id": "70f2eJglDQmi",
        "outputId": "ce064f5e-1775-45e0-8dcd-6071ba20a458"
      },
      "source": [
        ""
      ],
      "execution_count": null,
      "outputs": [
        {
          "output_type": "stream",
          "name": "stdout",
          "text": [
            "lsvm using count vectors accuracy 0.620061280438639\n"
          ]
        }
      ]
    },
    {
      "cell_type": "code",
      "metadata": {
        "id": "_I3NR2BFs8jr"
      },
      "source": [
        "# !wget http://nlp.stanford.edu/data/glove.twitter.27B.zip"
      ],
      "execution_count": null,
      "outputs": []
    }
  ]
}